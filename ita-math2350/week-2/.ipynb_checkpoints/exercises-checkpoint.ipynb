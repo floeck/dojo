{
 "cells": [
  {
   "cell_type": "markdown",
   "metadata": {},
   "source": [
    "# Week 2 Exercises: Basic Python Programming"
   ]
  },
  {
   "cell_type": "markdown",
   "metadata": {},
   "source": [
    "**Exercise 1:** Write a Python function to check whether a number is divisible by another number. Your function should accept two integers values and return a boolean."
   ]
  },
  {
   "cell_type": "code",
   "execution_count": 37,
   "metadata": {},
   "outputs": [],
   "source": [
    "def divisible(x, y):\n",
    "    if(x % y == 0):\n",
    "        return print(True)\n",
    "    else:\n",
    "        return print(False)"
   ]
  },
  {
   "cell_type": "markdown",
   "metadata": {},
   "source": [
    "Example use cases below."
   ]
  },
  {
   "cell_type": "code",
   "execution_count": 38,
   "metadata": {},
   "outputs": [
    {
     "name": "stdout",
     "output_type": "stream",
     "text": [
      "True\n",
      "False\n"
     ]
    }
   ],
   "source": [
    "divisible(8, 1)\n",
    "divisible(9, 2)"
   ]
  },
  {
   "cell_type": "markdown",
   "metadata": {},
   "source": [
    "**Exercise 2:** Fibonacci numbers start with 0, 1 and continues such that the next number is the sum of the previous two numbers. Write a Python function that gives a list of the first N fibonacci numbers.\n",
    "\n",
    "**Bonus:** Make the first two numbers optional with default values of 0 and 1."
   ]
  },
  {
   "cell_type": "code",
   "execution_count": 30,
   "metadata": {},
   "outputs": [],
   "source": [
    "def fibonacci(x, n):\n",
    "    if(x == 0 or x == 1):\n",
    "        fiblist = [x, 1]\n",
    "        for i in range(0, n):\n",
    "            new_int = fiblist[-1] + fiblist[-2]\n",
    "            fiblist.append(new_int)\n",
    "        print(fiblist)\n",
    "    else:\n",
    "        print('Error: Start int neither 0 or 1.')"
   ]
  },
  {
   "cell_type": "markdown",
   "metadata": {},
   "source": [
    "Example use cases below."
   ]
  },
  {
   "cell_type": "code",
   "execution_count": 35,
   "metadata": {},
   "outputs": [
    {
     "name": "stdout",
     "output_type": "stream",
     "text": [
      "[0, 1, 1, 2, 3, 5, 8, 13, 21, 34, 55, 89, 144, 233]\n",
      "[1, 1, 2, 3, 5, 8, 13, 21, 34, 55, 89, 144]\n",
      "Error: Start int neither 0 or 1.\n"
     ]
    }
   ],
   "source": [
    "fibonacci(0, 12)\n",
    "fibonacci(1, 10)\n",
    "fibonacci(2, 10)"
   ]
  },
  {
   "cell_type": "markdown",
   "metadata": {},
   "source": [
    "**Exercise 3:** Write a Python program to count the number of even and odd numbers in a given list of numbers.\n",
    "\n",
    "Test your program with a list of integer numbers from 1 to 100."
   ]
  },
  {
   "cell_type": "code",
   "execution_count": 55,
   "metadata": {},
   "outputs": [],
   "source": [
    "def scan_list(list):\n",
    "    even, odd = 0, 0\n",
    "    for i in list:\n",
    "        if(list[i-1] % 2 == 0):\n",
    "            even += 1\n",
    "        else:\n",
    "            odd += 1\n",
    "    print('Even: ' + str(even) + ', ' 'Odd: ' + str(odd))"
   ]
  },
  {
   "cell_type": "markdown",
   "metadata": {},
   "source": [
    "Example use cases below."
   ]
  },
  {
   "cell_type": "code",
   "execution_count": 57,
   "metadata": {},
   "outputs": [
    {
     "name": "stdout",
     "output_type": "stream",
     "text": [
      "Even: 50, Odd: 50\n"
     ]
    }
   ],
   "source": [
    "scan_list([1, 2, 3, 4, 5, 6, 7, 8, 9, 10, 11, 12, 13, 14, 15, 16, 17, 18, 19, 20, 21, 22, 23, 24, 25,26, 27, 28, 29, 30, 31, 32, 33, 34, 35, 36, 37, 38, 39, 40, 41, 42, 43, 44, 45, 46, 47, 48, 49, 50, 51, 52, 53, 54, 55, 56, 57, 58, 59, 60, 61, 62, 63, 64, 65, 66, 67, 68, 69, 70, 71, 72, 73, 74, 75, 76, 77, 78, 79, 80, 81, 82, 83, 84, 85, 86, 87, 88, 89, 90, 91, 92, 93, 94, 95, 96, 97, 98, 99, 100])"
   ]
  },
  {
   "cell_type": "markdown",
   "metadata": {},
   "source": [
    "**Exercise 4:** Write a Python function that accepts a string and calculates the number of upper case and lower case letters using a dictionary with two keys."
   ]
  },
  {
   "cell_type": "code",
   "execution_count": 7,
   "metadata": {},
   "outputs": [],
   "source": [
    "def string_case(string):\n",
    "    vals = {}\n",
    "    vals['upper'] = 0\n",
    "    vals['lower'] = 0\n",
    "    \n",
    "    for x in string:\n",
    "        if(x.isupper()):\n",
    "            vals['upper'] += 1\n",
    "        elif(x.islower()):\n",
    "            vals['lower'] += 1\n",
    "        \n",
    "    print('Uppercase: ' + str(vals['upper']) + ', Lowercase: ' + str(vals['lower']))    "
   ]
  },
  {
   "cell_type": "markdown",
   "metadata": {},
   "source": [
    "Example use cases below."
   ]
  },
  {
   "cell_type": "code",
   "execution_count": 8,
   "metadata": {},
   "outputs": [
    {
     "name": "stdout",
     "output_type": "stream",
     "text": [
      "Uppercase: 1, Lowercase: 4\n",
      "Uppercase: 3, Lowercase: 19\n"
     ]
    }
   ],
   "source": [
    "string_case('Oskar')\n",
    "string_case(\"Hi, I'm mike! How are you today?\")"
   ]
  },
  {
   "cell_type": "markdown",
   "metadata": {},
   "source": [
    "**Exercise 5:** Write a Python program to store duplicate elements in a given list.\n",
    "\n",
    "Test your program with this list of numbers, [1, 2, 3, 3, 5, 7, 8, 8, 11, 11, 11, 11]"
   ]
  },
  {
   "cell_type": "code",
   "execution_count": 49,
   "metadata": {},
   "outputs": [],
   "source": [
    "def search_dupe(list):\n",
    "    \n",
    "    list.sort()\n",
    "    dupelist = []\n",
    "    \n",
    "    for k in range(0, len(list)-1):\n",
    "        if(list[k] == list[k+1]):\n",
    "            if(list[k] not in dupelist):\n",
    "                dupelist.append(list[k])\n",
    "    \n",
    "    print(\"Dupe elements: \" + str(dupelist))"
   ]
  },
  {
   "cell_type": "markdown",
   "metadata": {},
   "source": [
    "Example use cases below."
   ]
  },
  {
   "cell_type": "code",
   "execution_count": 51,
   "metadata": {},
   "outputs": [
    {
     "name": "stdout",
     "output_type": "stream",
     "text": [
      "Dupe elements: [0, 3, 8, 11]\n"
     ]
    }
   ],
   "source": [
    "search_dupe([1, 3, 3, 0, 5, 7, 8, 8, 11, 11, 11, 0, 11, 12])"
   ]
  },
  {
   "cell_type": "markdown",
   "metadata": {},
   "source": [
    "**Exercise 6:** Write a Python function that takes two lists and returns True if they have at least one common element."
   ]
  },
  {
   "cell_type": "code",
   "execution_count": 59,
   "metadata": {},
   "outputs": [],
   "source": [
    "def common_element(list1, list2):\n",
    "    # returns true if nothing in common, hence not.\n",
    "    return print(not set(list1).isdisjoint(list2))"
   ]
  },
  {
   "cell_type": "markdown",
   "metadata": {},
   "source": [
    "Example use cases below."
   ]
  },
  {
   "cell_type": "code",
   "execution_count": 64,
   "metadata": {},
   "outputs": [
    {
     "name": "stdout",
     "output_type": "stream",
     "text": [
      "True\n",
      "False\n",
      "True\n",
      "False\n"
     ]
    }
   ],
   "source": [
    "common_element(['a','w','h','a','w','u','t','b','h','b','g','i'], ['q','u','l','z','i','r','p','c','k','p','y','i'])\n",
    "common_element(['a','b','c','d','e','f','g','h','i','j','k','l'], ['m','n','o','p','q','r','s','t','u','v','w','x'])\n",
    "common_element([7,7,4,5,6,7,7], [1,9,9,3,4,5,6,7,8])\n",
    "common_element([1,2,3,4,5,6,7], [8,9,9,10,12,13,12,42,12])"
   ]
  }
 ],
 "metadata": {
  "kernelspec": {
   "display_name": "Python 3",
   "language": "python",
   "name": "python3"
  },
  "language_info": {
   "codemirror_mode": {
    "name": "ipython",
    "version": 3
   },
   "file_extension": ".py",
   "mimetype": "text/x-python",
   "name": "python",
   "nbconvert_exporter": "python",
   "pygments_lexer": "ipython3",
   "version": "3.8.3"
  }
 },
 "nbformat": 4,
 "nbformat_minor": 4
}
