{
 "cells": [
  {
   "cell_type": "markdown",
   "metadata": {},
   "source": [
    "# Week 2 Exercises: Basic Python Programming"
   ]
  },
  {
   "cell_type": "markdown",
   "metadata": {},
   "source": [
    "**Exercise 1:** Write a Python function to check whether a number is divisible by another number. Your function should accept two integers values and return a boolean."
   ]
  },
  {
   "cell_type": "code",
   "execution_count": 13,
   "metadata": {},
   "outputs": [
    {
     "data": {
      "text/plain": [
       "False"
      ]
     },
     "execution_count": 13,
     "metadata": {},
     "output_type": "execute_result"
    }
   ],
   "source": [
    "def divisible(x, y):\n",
    "    if(x % y == 0):\n",
    "        return True\n",
    "    else:\n",
    "        return False\n",
    "\n",
    "# Example use\n",
    "\n",
    "divisible(9, 2)"
   ]
  },
  {
   "cell_type": "markdown",
   "metadata": {},
   "source": [
    "**Exercise 2:** Fibonacci numbers start with 0, 1 and continues such that the next number is the sum of the previous two numbers. Write a Python function that gives a list of the first N fibonacci numbers.\n",
    "\n",
    "**Bonus:** Make the first two numbers optional with default values of 0 and 1."
   ]
  },
  {
   "cell_type": "code",
   "execution_count": 20,
   "metadata": {},
   "outputs": [
    {
     "name": "stdout",
     "output_type": "stream",
     "text": [
      "[0, 1, 1, 2, 3, 5, 8, 13, 21, 34, 55, 89]\n",
      "[1, 1, 2, 3, 5, 8, 13, 21, 34, 55, 89, 144]\n",
      "Error: Start int neither 0 or 1.\n"
     ]
    }
   ],
   "source": [
    "def fibonacci(x, n):\n",
    "    if(x == 0 or x == 1):\n",
    "        fiblist = [x, 1]\n",
    "        for i in range(0, n):\n",
    "            new_int = fiblist[-2] + fiblist[-1]\n",
    "            fiblist.append(new_int)\n",
    "        print(fiblist)\n",
    "    else:\n",
    "        print('Error: Start int neither 0 or 1.')\n",
    "    \n",
    "# Example use\n",
    "\n",
    "fibonacci(0, 10)\n",
    "fibonacci(1, 10)\n",
    "fibonacci(2, 10)"
   ]
  },
  {
   "cell_type": "markdown",
   "metadata": {},
   "source": [
    "**Exercise 3:** Write a Python program to count the number of even and odd numbers in a given list of numbers.\n",
    "\n",
    "Test your program with a list of integer numbers from 1 to 100."
   ]
  },
  {
   "cell_type": "code",
   "execution_count": null,
   "metadata": {},
   "outputs": [],
   "source": []
  },
  {
   "cell_type": "markdown",
   "metadata": {},
   "source": [
    "**Exercise 4:** Write a Python function that accepts a string and calculates the number of upper case and lower case letters using a dictionary with two keys."
   ]
  },
  {
   "cell_type": "code",
   "execution_count": null,
   "metadata": {},
   "outputs": [],
   "source": []
  },
  {
   "cell_type": "markdown",
   "metadata": {},
   "source": [
    "**Exercise 5:** Write a Python program to store duplicate elements in a given list.\n",
    "\n",
    "Test your program with this list of numbers, [1, 2, 3, 3, 5, 7, 8, 8, 11, 11, 11, 11]"
   ]
  },
  {
   "cell_type": "code",
   "execution_count": null,
   "metadata": {},
   "outputs": [],
   "source": []
  },
  {
   "cell_type": "markdown",
   "metadata": {},
   "source": [
    "**Exercise 6:** Write a Python function that takes two lists and returns True if they have at least one common element."
   ]
  },
  {
   "cell_type": "code",
   "execution_count": null,
   "metadata": {},
   "outputs": [],
   "source": []
  }
 ],
 "metadata": {
  "kernelspec": {
   "display_name": "Python 3",
   "language": "python",
   "name": "python3"
  },
  "language_info": {
   "codemirror_mode": {
    "name": "ipython",
    "version": 3
   },
   "file_extension": ".py",
   "mimetype": "text/x-python",
   "name": "python",
   "nbconvert_exporter": "python",
   "pygments_lexer": "ipython3",
   "version": "3.8.3"
  }
 },
 "nbformat": 4,
 "nbformat_minor": 4
}
