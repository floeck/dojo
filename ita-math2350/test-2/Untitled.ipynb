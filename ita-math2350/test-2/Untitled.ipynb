{
 "cells": [
  {
   "cell_type": "code",
   "execution_count": 28,
   "metadata": {},
   "outputs": [],
   "source": [
    "import numpy as np\n",
    "import math\n",
    "from scipy.stats import t\n",
    "from scipy.stats import norm\n",
    "from statistics import NormalDist"
   ]
  },
  {
   "cell_type": "markdown",
   "metadata": {},
   "source": [
    "$$ \\text{CI} = \\text{sample mean} \\pm \\text{ME} $$\n",
    "$$ \\text{ME} = \\text{critical value} \\times {SE} $$\n",
    "$$ \\text{SE} = \\frac{\\text{SD}}{\\sqrt{n}} $$\n",
    "$$ \\text{SE}_{\\text{2 populations}} = \\sqrt{\\frac{\\sigma_1^2}{n_1} + \\frac{\\sigma_2^2}{n_2}} $$\n",
    "\n",
    "$$ \\text{t-score} = \\frac{\\bar{x} - u}{\\frac{\\sigma}{\\sqrt{n}}} $$\n",
    "$$ \\bar{x} = \\text{t-score} \\times \\frac{\\sigma}{\\sqrt{n}} + u $$"
   ]
  },
  {
   "cell_type": "code",
   "execution_count": 45,
   "metadata": {},
   "outputs": [
    {
     "name": "stdout",
     "output_type": "stream",
     "text": [
      "224.09333333333333\n"
     ]
    }
   ],
   "source": [
    "me = 0.06\n",
    "n = 60\n",
    "p = 18/60 #0.3\n",
    "\n",
    "pp = p*(1-p)\n",
    "\n",
    "#me = 1.96 * sqrt(pp/n)\n",
    "n = (1.96**2)/(me**2)*pp\n",
    "\n",
    "\n",
    "print(n)\n"
   ]
  },
  {
   "cell_type": "code",
   "execution_count": null,
   "metadata": {},
   "outputs": [],
   "source": []
  }
 ],
 "metadata": {
  "kernelspec": {
   "display_name": "Python 3",
   "language": "python",
   "name": "python3"
  },
  "language_info": {
   "codemirror_mode": {
    "name": "ipython",
    "version": 3
   },
   "file_extension": ".py",
   "mimetype": "text/x-python",
   "name": "python",
   "nbconvert_exporter": "python",
   "pygments_lexer": "ipython3",
   "version": "3.8.3"
  }
 },
 "nbformat": 4,
 "nbformat_minor": 4
}
